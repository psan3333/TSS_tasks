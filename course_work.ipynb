{
 "cells": [
  {
   "cell_type": "code",
   "execution_count": 80,
   "id": "32689725",
   "metadata": {
    "execution": {
     "iopub.execute_input": "2023-12-05T23:31:59.420505Z",
     "iopub.status.busy": "2023-12-05T23:31:59.420205Z",
     "iopub.status.idle": "2023-12-05T23:32:01.302363Z",
     "shell.execute_reply": "2023-12-05T23:32:01.301539Z"
    },
    "papermill": {
     "duration": 1.894282,
     "end_time": "2023-12-05T23:32:01.304858",
     "exception": false,
     "start_time": "2023-12-05T23:31:59.410576",
     "status": "completed"
    },
    "tags": []
   },
   "outputs": [],
   "source": [
    "import numpy as np\n",
    "import pandas as pd\n",
    "import matplotlib.pyplot as plt\n",
    "%matplotlib inline\n",
    "import seaborn as sns\n"
   ]
  },
  {
   "cell_type": "code",
   "execution_count": 81,
   "id": "d5748a47",
   "metadata": {
    "execution": {
     "iopub.execute_input": "2023-12-05T23:32:01.322215Z",
     "iopub.status.busy": "2023-12-05T23:32:01.321857Z",
     "iopub.status.idle": "2023-12-05T23:32:01.325739Z",
     "shell.execute_reply": "2023-12-05T23:32:01.324906Z"
    },
    "papermill": {
     "duration": 0.014259,
     "end_time": "2023-12-05T23:32:01.327421",
     "exception": false,
     "start_time": "2023-12-05T23:32:01.313162",
     "status": "completed"
    },
    "tags": []
   },
   "outputs": [],
   "source": [
    "plt.style.available\n",
    "plt.style.use('fast')"
   ]
  },
  {
   "cell_type": "markdown",
   "id": "6b7d0f88",
   "metadata": {},
   "source": [
    "<h1>Исходные данные и их описание</h1>\n",
    "<h3>Основная задачи - предсказать цену дома в зависимости от различного рода признаков, представленных в имеющемся датасете</h3>\n",
    "<h3>Ссылка на датасет:</h3>\n",
    "<a href=\"url\">https://www.kaggle.com/datasets/muhammadbinimran/housing-price-prediction-data</a>"
   ]
  },
  {
   "cell_type": "code",
   "execution_count": 82,
   "id": "d7a7b7b8",
   "metadata": {
    "execution": {
     "iopub.execute_input": "2023-12-05T23:32:01.345348Z",
     "iopub.status.busy": "2023-12-05T23:32:01.345112Z",
     "iopub.status.idle": "2023-12-05T23:32:01.440300Z",
     "shell.execute_reply": "2023-12-05T23:32:01.439478Z"
    },
    "papermill": {
     "duration": 0.107021,
     "end_time": "2023-12-05T23:32:01.442421",
     "exception": false,
     "start_time": "2023-12-05T23:32:01.335400",
     "status": "completed"
    },
    "tags": []
   },
   "outputs": [
    {
     "name": "stdout",
     "output_type": "stream",
     "text": [
      "(50000, 6)\n"
     ]
    },
    {
     "data": {
      "text/html": [
       "<div>\n",
       "<style scoped>\n",
       "    .dataframe tbody tr th:only-of-type {\n",
       "        vertical-align: middle;\n",
       "    }\n",
       "\n",
       "    .dataframe tbody tr th {\n",
       "        vertical-align: top;\n",
       "    }\n",
       "\n",
       "    .dataframe thead th {\n",
       "        text-align: right;\n",
       "    }\n",
       "</style>\n",
       "<table border=\"1\" class=\"dataframe\">\n",
       "  <thead>\n",
       "    <tr style=\"text-align: right;\">\n",
       "      <th></th>\n",
       "      <th>SquareFeet</th>\n",
       "      <th>Bedrooms</th>\n",
       "      <th>Bathrooms</th>\n",
       "      <th>Neighborhood</th>\n",
       "      <th>YearBuilt</th>\n",
       "      <th>Price</th>\n",
       "    </tr>\n",
       "  </thead>\n",
       "  <tbody>\n",
       "    <tr>\n",
       "      <th>0</th>\n",
       "      <td>2126</td>\n",
       "      <td>4</td>\n",
       "      <td>1</td>\n",
       "      <td>Rural</td>\n",
       "      <td>1969</td>\n",
       "      <td>215355.283618</td>\n",
       "    </tr>\n",
       "    <tr>\n",
       "      <th>1</th>\n",
       "      <td>2459</td>\n",
       "      <td>3</td>\n",
       "      <td>2</td>\n",
       "      <td>Rural</td>\n",
       "      <td>1980</td>\n",
       "      <td>195014.221626</td>\n",
       "    </tr>\n",
       "    <tr>\n",
       "      <th>2</th>\n",
       "      <td>1860</td>\n",
       "      <td>2</td>\n",
       "      <td>1</td>\n",
       "      <td>Suburb</td>\n",
       "      <td>1970</td>\n",
       "      <td>306891.012076</td>\n",
       "    </tr>\n",
       "    <tr>\n",
       "      <th>3</th>\n",
       "      <td>2294</td>\n",
       "      <td>2</td>\n",
       "      <td>1</td>\n",
       "      <td>Urban</td>\n",
       "      <td>1996</td>\n",
       "      <td>206786.787153</td>\n",
       "    </tr>\n",
       "    <tr>\n",
       "      <th>4</th>\n",
       "      <td>2130</td>\n",
       "      <td>5</td>\n",
       "      <td>2</td>\n",
       "      <td>Suburb</td>\n",
       "      <td>2001</td>\n",
       "      <td>272436.239065</td>\n",
       "    </tr>\n",
       "  </tbody>\n",
       "</table>\n",
       "</div>"
      ],
      "text/plain": [
       "   SquareFeet  Bedrooms  Bathrooms Neighborhood  YearBuilt          Price\n",
       "0        2126         4          1        Rural       1969  215355.283618\n",
       "1        2459         3          2        Rural       1980  195014.221626\n",
       "2        1860         2          1       Suburb       1970  306891.012076\n",
       "3        2294         2          1        Urban       1996  206786.787153\n",
       "4        2130         5          2       Suburb       2001  272436.239065"
      ]
     },
     "execution_count": 82,
     "metadata": {},
     "output_type": "execute_result"
    }
   ],
   "source": [
    "# read the dataset csv file\n",
    "df = pd.read_csv(\"housing_price_dataset.csv\")\n",
    "print(df.shape)\n",
    "df.head()"
   ]
  },
  {
   "cell_type": "code",
   "execution_count": 83,
   "id": "8fe89b45",
   "metadata": {
    "execution": {
     "iopub.execute_input": "2023-12-05T23:32:01.544062Z",
     "iopub.status.busy": "2023-12-05T23:32:01.543376Z",
     "iopub.status.idle": "2023-12-05T23:32:01.553252Z",
     "shell.execute_reply": "2023-12-05T23:32:01.552720Z"
    },
    "papermill": {
     "duration": 0.020673,
     "end_time": "2023-12-05T23:32:01.555172",
     "exception": false,
     "start_time": "2023-12-05T23:32:01.534499",
     "status": "completed"
    },
    "tags": []
   },
   "outputs": [
    {
     "name": "stdout",
     "output_type": "stream",
     "text": [
      "SquareFeet      False\n",
      "Bedrooms        False\n",
      "Bathrooms       False\n",
      "Neighborhood    False\n",
      "YearBuilt       False\n",
      "Price           False\n",
      "dtype: bool\n",
      "\n",
      "SquareFeet      0\n",
      "Bedrooms        0\n",
      "Bathrooms       0\n",
      "Neighborhood    0\n",
      "YearBuilt       0\n",
      "Price           0\n",
      "dtype: int64\n"
     ]
    }
   ],
   "source": [
    "# check null values\n",
    "print(df.isna().any())\n",
    "print() \n",
    "print(df.isna().sum())"
   ]
  },
  {
   "cell_type": "markdown",
   "id": "c1609d85",
   "metadata": {},
   "source": [
    "<h3>Проверка на одинаковые наблюдения</h3>"
   ]
  },
  {
   "cell_type": "code",
   "execution_count": 84,
   "id": "597158b5",
   "metadata": {
    "execution": {
     "iopub.execute_input": "2023-12-05T23:32:01.574879Z",
     "iopub.status.busy": "2023-12-05T23:32:01.574063Z",
     "iopub.status.idle": "2023-12-05T23:32:01.594676Z",
     "shell.execute_reply": "2023-12-05T23:32:01.593834Z"
    },
    "papermill": {
     "duration": 0.032022,
     "end_time": "2023-12-05T23:32:01.596292",
     "exception": false,
     "start_time": "2023-12-05T23:32:01.564270",
     "status": "completed"
    },
    "tags": []
   },
   "outputs": [
    {
     "data": {
      "text/plain": [
       "0"
      ]
     },
     "execution_count": 84,
     "metadata": {},
     "output_type": "execute_result"
    }
   ],
   "source": [
    "df.duplicated().sum()"
   ]
  },
  {
   "cell_type": "markdown",
   "id": "d99d1bad",
   "metadata": {},
   "source": [
    "<h3>Описание данных</h3>"
   ]
  },
  {
   "cell_type": "code",
   "execution_count": 85,
   "id": "376cfed9",
   "metadata": {
    "execution": {
     "iopub.execute_input": "2023-12-05T23:32:01.615162Z",
     "iopub.status.busy": "2023-12-05T23:32:01.614355Z",
     "iopub.status.idle": "2023-12-05T23:32:01.644296Z",
     "shell.execute_reply": "2023-12-05T23:32:01.643435Z"
    },
    "papermill": {
     "duration": 0.04111,
     "end_time": "2023-12-05T23:32:01.646131",
     "exception": false,
     "start_time": "2023-12-05T23:32:01.605021",
     "status": "completed"
    },
    "tags": []
   },
   "outputs": [
    {
     "data": {
      "text/html": [
       "<div>\n",
       "<style scoped>\n",
       "    .dataframe tbody tr th:only-of-type {\n",
       "        vertical-align: middle;\n",
       "    }\n",
       "\n",
       "    .dataframe tbody tr th {\n",
       "        vertical-align: top;\n",
       "    }\n",
       "\n",
       "    .dataframe thead th {\n",
       "        text-align: right;\n",
       "    }\n",
       "</style>\n",
       "<table border=\"1\" class=\"dataframe\">\n",
       "  <thead>\n",
       "    <tr style=\"text-align: right;\">\n",
       "      <th></th>\n",
       "      <th>SquareFeet</th>\n",
       "      <th>Bedrooms</th>\n",
       "      <th>Bathrooms</th>\n",
       "      <th>YearBuilt</th>\n",
       "      <th>Price</th>\n",
       "    </tr>\n",
       "  </thead>\n",
       "  <tbody>\n",
       "    <tr>\n",
       "      <th>count</th>\n",
       "      <td>50000.000000</td>\n",
       "      <td>50000.000000</td>\n",
       "      <td>50000.000000</td>\n",
       "      <td>50000.000000</td>\n",
       "      <td>50000.000000</td>\n",
       "    </tr>\n",
       "    <tr>\n",
       "      <th>mean</th>\n",
       "      <td>2006.374680</td>\n",
       "      <td>3.498700</td>\n",
       "      <td>1.995420</td>\n",
       "      <td>1985.404420</td>\n",
       "      <td>224827.325151</td>\n",
       "    </tr>\n",
       "    <tr>\n",
       "      <th>std</th>\n",
       "      <td>575.513241</td>\n",
       "      <td>1.116326</td>\n",
       "      <td>0.815851</td>\n",
       "      <td>20.719377</td>\n",
       "      <td>76141.842966</td>\n",
       "    </tr>\n",
       "    <tr>\n",
       "      <th>min</th>\n",
       "      <td>1000.000000</td>\n",
       "      <td>2.000000</td>\n",
       "      <td>1.000000</td>\n",
       "      <td>1950.000000</td>\n",
       "      <td>-36588.165397</td>\n",
       "    </tr>\n",
       "    <tr>\n",
       "      <th>25%</th>\n",
       "      <td>1513.000000</td>\n",
       "      <td>3.000000</td>\n",
       "      <td>1.000000</td>\n",
       "      <td>1967.000000</td>\n",
       "      <td>169955.860225</td>\n",
       "    </tr>\n",
       "    <tr>\n",
       "      <th>50%</th>\n",
       "      <td>2007.000000</td>\n",
       "      <td>3.000000</td>\n",
       "      <td>2.000000</td>\n",
       "      <td>1985.000000</td>\n",
       "      <td>225052.141166</td>\n",
       "    </tr>\n",
       "    <tr>\n",
       "      <th>75%</th>\n",
       "      <td>2506.000000</td>\n",
       "      <td>4.000000</td>\n",
       "      <td>3.000000</td>\n",
       "      <td>2003.000000</td>\n",
       "      <td>279373.630052</td>\n",
       "    </tr>\n",
       "    <tr>\n",
       "      <th>max</th>\n",
       "      <td>2999.000000</td>\n",
       "      <td>5.000000</td>\n",
       "      <td>3.000000</td>\n",
       "      <td>2021.000000</td>\n",
       "      <td>492195.259972</td>\n",
       "    </tr>\n",
       "  </tbody>\n",
       "</table>\n",
       "</div>"
      ],
      "text/plain": [
       "         SquareFeet      Bedrooms     Bathrooms     YearBuilt          Price\n",
       "count  50000.000000  50000.000000  50000.000000  50000.000000   50000.000000\n",
       "mean    2006.374680      3.498700      1.995420   1985.404420  224827.325151\n",
       "std      575.513241      1.116326      0.815851     20.719377   76141.842966\n",
       "min     1000.000000      2.000000      1.000000   1950.000000  -36588.165397\n",
       "25%     1513.000000      3.000000      1.000000   1967.000000  169955.860225\n",
       "50%     2007.000000      3.000000      2.000000   1985.000000  225052.141166\n",
       "75%     2506.000000      4.000000      3.000000   2003.000000  279373.630052\n",
       "max     2999.000000      5.000000      3.000000   2021.000000  492195.259972"
      ]
     },
     "execution_count": 85,
     "metadata": {},
     "output_type": "execute_result"
    }
   ],
   "source": [
    "# check statistical data\n",
    "df.describe()"
   ]
  },
  {
   "cell_type": "markdown",
   "id": "89a1728b",
   "metadata": {},
   "source": [
    "<h3>Уникальные значения категориальных данных и балансировка классов (как видно - датасет хорошо сбалансирован по имеющимся категориям домов)</h3>"
   ]
  },
  {
   "cell_type": "code",
   "execution_count": 86,
   "id": "3bc80067",
   "metadata": {
    "execution": {
     "iopub.execute_input": "2023-12-05T23:32:01.665093Z",
     "iopub.status.busy": "2023-12-05T23:32:01.664798Z",
     "iopub.status.idle": "2023-12-05T23:32:01.671789Z",
     "shell.execute_reply": "2023-12-05T23:32:01.671239Z"
    },
    "papermill": {
     "duration": 0.017887,
     "end_time": "2023-12-05T23:32:01.673199",
     "exception": false,
     "start_time": "2023-12-05T23:32:01.655312",
     "status": "completed"
    },
    "tags": []
   },
   "outputs": [
    {
     "name": "stdout",
     "output_type": "stream",
     "text": [
      "['Rural' 'Suburb' 'Urban']\n",
      "Neighborhood\n",
      "Suburb    16721\n",
      "Rural     16676\n",
      "Urban     16603\n",
      "Name: count, dtype: int64\n"
     ]
    }
   ],
   "source": [
    "print(df.Neighborhood.unique())\n",
    "print(df.Neighborhood.value_counts())"
   ]
  },
  {
   "cell_type": "markdown",
   "id": "30b4f430",
   "metadata": {},
   "source": [
    "<h3>Сравнение цен на дома по категориальному признаку Neighborhood</h3>"
   ]
  },
  {
   "cell_type": "code",
   "execution_count": 87,
   "id": "9e5c2573",
   "metadata": {
    "execution": {
     "iopub.execute_input": "2023-12-05T23:32:01.759323Z",
     "iopub.status.busy": "2023-12-05T23:32:01.759016Z",
     "iopub.status.idle": "2023-12-05T23:32:01.775256Z",
     "shell.execute_reply": "2023-12-05T23:32:01.774355Z"
    },
    "papermill": {
     "duration": 0.027558,
     "end_time": "2023-12-05T23:32:01.777005",
     "exception": false,
     "start_time": "2023-12-05T23:32:01.749447",
     "status": "completed"
    },
    "tags": []
   },
   "outputs": [
    {
     "data": {
      "text/html": [
       "<div>\n",
       "<style scoped>\n",
       "    .dataframe tbody tr th:only-of-type {\n",
       "        vertical-align: middle;\n",
       "    }\n",
       "\n",
       "    .dataframe tbody tr th {\n",
       "        vertical-align: top;\n",
       "    }\n",
       "\n",
       "    .dataframe thead th {\n",
       "        text-align: right;\n",
       "    }\n",
       "</style>\n",
       "<table border=\"1\" class=\"dataframe\">\n",
       "  <thead>\n",
       "    <tr style=\"text-align: right;\">\n",
       "      <th></th>\n",
       "      <th>sum</th>\n",
       "      <th>Mean</th>\n",
       "    </tr>\n",
       "    <tr>\n",
       "      <th>Neighborhood</th>\n",
       "      <th></th>\n",
       "      <th></th>\n",
       "    </tr>\n",
       "  </thead>\n",
       "  <tbody>\n",
       "    <tr>\n",
       "      <th>Rural</th>\n",
       "      <td>3.737027e+09</td>\n",
       "      <td>224096.126040</td>\n",
       "    </tr>\n",
       "    <tr>\n",
       "      <th>Suburb</th>\n",
       "      <td>3.732699e+09</td>\n",
       "      <td>223234.189857</td>\n",
       "    </tr>\n",
       "    <tr>\n",
       "      <th>Urban</th>\n",
       "      <td>3.771640e+09</td>\n",
       "      <td>227166.197139</td>\n",
       "    </tr>\n",
       "  </tbody>\n",
       "</table>\n",
       "</div>"
      ],
      "text/plain": [
       "                       sum           Mean\n",
       "Neighborhood                             \n",
       "Rural         3.737027e+09  224096.126040\n",
       "Suburb        3.732699e+09  223234.189857\n",
       "Urban         3.771640e+09  227166.197139"
      ]
     },
     "execution_count": 87,
     "metadata": {},
     "output_type": "execute_result"
    }
   ],
   "source": [
    "compare_sum = df.loc[:,['Neighborhood','Price']].groupby('Neighborhood').sum()\n",
    "compare_mean = df.loc[:,['Neighborhood','Price']].groupby('Neighborhood').mean()\n",
    "\n",
    "comp = pd.merge(compare_sum,compare_mean, left_index=True, right_index=True).\\\n",
    "    rename({'Price_x':'sum'},axis =1).rename({'Price_y':'Mean'},axis =1)\n",
    "comp\n"
   ]
  },
  {
   "cell_type": "code",
   "execution_count": 88,
   "id": "f8c99449",
   "metadata": {
    "execution": {
     "iopub.execute_input": "2023-12-05T23:32:01.894166Z",
     "iopub.status.busy": "2023-12-05T23:32:01.893638Z",
     "iopub.status.idle": "2023-12-05T23:32:01.950824Z",
     "shell.execute_reply": "2023-12-05T23:32:01.949945Z"
    },
    "papermill": {
     "duration": 0.069197,
     "end_time": "2023-12-05T23:32:01.952798",
     "exception": false,
     "start_time": "2023-12-05T23:32:01.883601",
     "status": "completed"
    },
    "tags": []
   },
   "outputs": [],
   "source": [
    "pivot = pd.pivot_table(df, index='Neighborhood', columns=['SquareFeet','Bedrooms','Bathrooms','YearBuilt'],values = 'Price').T\\\n",
    "    .fillna(0)"
   ]
  },
  {
   "cell_type": "code",
   "execution_count": 89,
   "id": "c537f6c2",
   "metadata": {
    "execution": {
     "iopub.execute_input": "2023-12-05T23:32:01.972668Z",
     "iopub.status.busy": "2023-12-05T23:32:01.972000Z",
     "iopub.status.idle": "2023-12-05T23:32:01.986569Z",
     "shell.execute_reply": "2023-12-05T23:32:01.985597Z"
    },
    "papermill": {
     "duration": 0.026156,
     "end_time": "2023-12-05T23:32:01.988246",
     "exception": false,
     "start_time": "2023-12-05T23:32:01.962090",
     "status": "completed"
    },
    "tags": []
   },
   "outputs": [
    {
     "data": {
      "text/html": [
       "<div>\n",
       "<style scoped>\n",
       "    .dataframe tbody tr th:only-of-type {\n",
       "        vertical-align: middle;\n",
       "    }\n",
       "\n",
       "    .dataframe tbody tr th {\n",
       "        vertical-align: top;\n",
       "    }\n",
       "\n",
       "    .dataframe thead th {\n",
       "        text-align: right;\n",
       "    }\n",
       "</style>\n",
       "<table border=\"1\" class=\"dataframe\">\n",
       "  <thead>\n",
       "    <tr style=\"text-align: right;\">\n",
       "      <th></th>\n",
       "      <th></th>\n",
       "      <th></th>\n",
       "      <th>Neighborhood</th>\n",
       "      <th>Rural</th>\n",
       "      <th>Suburb</th>\n",
       "      <th>Urban</th>\n",
       "    </tr>\n",
       "    <tr>\n",
       "      <th>SquareFeet</th>\n",
       "      <th>Bedrooms</th>\n",
       "      <th>Bathrooms</th>\n",
       "      <th>YearBuilt</th>\n",
       "      <th></th>\n",
       "      <th></th>\n",
       "      <th></th>\n",
       "    </tr>\n",
       "  </thead>\n",
       "  <tbody>\n",
       "    <tr>\n",
       "      <th rowspan=\"5\" valign=\"top\">1000</th>\n",
       "      <th rowspan=\"5\" valign=\"top\">2</th>\n",
       "      <th rowspan=\"4\" valign=\"top\">1</th>\n",
       "      <th>1957</th>\n",
       "      <td>0.000000</td>\n",
       "      <td>0.000000</td>\n",
       "      <td>77593.877585</td>\n",
       "    </tr>\n",
       "    <tr>\n",
       "      <th>1985</th>\n",
       "      <td>0.000000</td>\n",
       "      <td>144655.073585</td>\n",
       "      <td>0.000000</td>\n",
       "    </tr>\n",
       "    <tr>\n",
       "      <th>2004</th>\n",
       "      <td>0.000000</td>\n",
       "      <td>139881.249200</td>\n",
       "      <td>0.000000</td>\n",
       "    </tr>\n",
       "    <tr>\n",
       "      <th>2020</th>\n",
       "      <td>160017.424463</td>\n",
       "      <td>0.000000</td>\n",
       "      <td>0.000000</td>\n",
       "    </tr>\n",
       "    <tr>\n",
       "      <th>3</th>\n",
       "      <th>1960</th>\n",
       "      <td>117011.816463</td>\n",
       "      <td>0.000000</td>\n",
       "      <td>137635.364430</td>\n",
       "    </tr>\n",
       "    <tr>\n",
       "      <th>...</th>\n",
       "      <th>...</th>\n",
       "      <th>...</th>\n",
       "      <th>...</th>\n",
       "      <td>...</td>\n",
       "      <td>...</td>\n",
       "      <td>...</td>\n",
       "    </tr>\n",
       "    <tr>\n",
       "      <th rowspan=\"5\" valign=\"top\">2999</th>\n",
       "      <th rowspan=\"5\" valign=\"top\">5</th>\n",
       "      <th rowspan=\"2\" valign=\"top\">2</th>\n",
       "      <th>1978</th>\n",
       "      <td>0.000000</td>\n",
       "      <td>0.000000</td>\n",
       "      <td>428413.026125</td>\n",
       "    </tr>\n",
       "    <tr>\n",
       "      <th>1999</th>\n",
       "      <td>0.000000</td>\n",
       "      <td>0.000000</td>\n",
       "      <td>461502.014630</td>\n",
       "    </tr>\n",
       "    <tr>\n",
       "      <th rowspan=\"3\" valign=\"top\">3</th>\n",
       "      <th>1961</th>\n",
       "      <td>0.000000</td>\n",
       "      <td>269071.269636</td>\n",
       "      <td>0.000000</td>\n",
       "    </tr>\n",
       "    <tr>\n",
       "      <th>1963</th>\n",
       "      <td>361892.491875</td>\n",
       "      <td>0.000000</td>\n",
       "      <td>349151.606487</td>\n",
       "    </tr>\n",
       "    <tr>\n",
       "      <th>1988</th>\n",
       "      <td>0.000000</td>\n",
       "      <td>0.000000</td>\n",
       "      <td>344426.489598</td>\n",
       "    </tr>\n",
       "  </tbody>\n",
       "</table>\n",
       "<p>49264 rows × 3 columns</p>\n",
       "</div>"
      ],
      "text/plain": [
       "Neighborhood                                     Rural         Suburb  \\\n",
       "SquareFeet Bedrooms Bathrooms YearBuilt                                 \n",
       "1000       2        1         1957            0.000000       0.000000   \n",
       "                              1985            0.000000  144655.073585   \n",
       "                              2004            0.000000  139881.249200   \n",
       "                              2020       160017.424463       0.000000   \n",
       "                    3         1960       117011.816463       0.000000   \n",
       "...                                                ...            ...   \n",
       "2999       5        2         1978            0.000000       0.000000   \n",
       "                              1999            0.000000       0.000000   \n",
       "                    3         1961            0.000000  269071.269636   \n",
       "                              1963       361892.491875       0.000000   \n",
       "                              1988            0.000000       0.000000   \n",
       "\n",
       "Neighborhood                                     Urban  \n",
       "SquareFeet Bedrooms Bathrooms YearBuilt                 \n",
       "1000       2        1         1957        77593.877585  \n",
       "                              1985            0.000000  \n",
       "                              2004            0.000000  \n",
       "                              2020            0.000000  \n",
       "                    3         1960       137635.364430  \n",
       "...                                                ...  \n",
       "2999       5        2         1978       428413.026125  \n",
       "                              1999       461502.014630  \n",
       "                    3         1961            0.000000  \n",
       "                              1963       349151.606487  \n",
       "                              1988       344426.489598  \n",
       "\n",
       "[49264 rows x 3 columns]"
      ]
     },
     "execution_count": 89,
     "metadata": {},
     "output_type": "execute_result"
    }
   ],
   "source": [
    "pivot"
   ]
  },
  {
   "cell_type": "markdown",
   "id": "51fe16ef",
   "metadata": {},
   "source": [
    "<h3>Корреляция признаков в таблице</h3>"
   ]
  },
  {
   "cell_type": "code",
   "execution_count": 90,
   "id": "ecd1f9ba",
   "metadata": {
    "execution": {
     "iopub.execute_input": "2023-12-05T23:32:02.008254Z",
     "iopub.status.busy": "2023-12-05T23:32:02.007679Z",
     "iopub.status.idle": "2023-12-05T23:32:02.333497Z",
     "shell.execute_reply": "2023-12-05T23:32:02.332739Z"
    },
    "papermill": {
     "duration": 0.337877,
     "end_time": "2023-12-05T23:32:02.335410",
     "exception": false,
     "start_time": "2023-12-05T23:32:01.997533",
     "status": "completed"
    },
    "tags": []
   },
   "outputs": [
    {
     "name": "stderr",
     "output_type": "stream",
     "text": [
      "/tmp/ipykernel_358505/3145117954.py:3: UserWarning: Matplotlib is currently using module://matplotlib_inline.backend_inline, which is a non-GUI backend, so cannot show the figure.\n",
      "  fig.show()\n"
     ]
    },
    {
     "data": {
      "image/png": "[encoded data removed]",
      "text/plain": [
       "<Figure size 1000x900 with 2 Axes>"
      ]
     },
     "metadata": {},
     "output_type": "display_data"
    }
   ],
   "source": [
    "fig, ax= plt.subplots(figsize = (10,9))\n",
    "sns.heatmap(df.corr(numeric_only=True),annot=True)\n",
    "fig.show()"
   ]
  },
  {
   "cell_type": "markdown",
   "id": "ba4642c9",
   "metadata": {},
   "source": [
    "<h1>Создание Pipeline модели для регрессии</h1>"
   ]
  },
  {
   "cell_type": "code",
   "execution_count": 91,
   "id": "18301915",
   "metadata": {
    "execution": {
     "iopub.execute_input": "2023-12-05T23:32:02.382274Z",
     "iopub.status.busy": "2023-12-05T23:32:02.382065Z",
     "iopub.status.idle": "2023-12-05T23:32:02.669550Z",
     "shell.execute_reply": "2023-12-05T23:32:02.668739Z"
    },
    "papermill": {
     "duration": 0.299998,
     "end_time": "2023-12-05T23:32:02.671775",
     "exception": false,
     "start_time": "2023-12-05T23:32:02.371777",
     "status": "completed"
    },
    "tags": []
   },
   "outputs": [
    {
     "data": {
      "text/plain": [
       "SquareFeet        int64\n",
       "Bedrooms          int64\n",
       "Bathrooms         int64\n",
       "Neighborhood     object\n",
       "YearBuilt         int64\n",
       "Price           float64\n",
       "dtype: object"
      ]
     },
     "execution_count": 91,
     "metadata": {},
     "output_type": "execute_result"
    }
   ],
   "source": [
    "from sklearn.preprocessing import OneHotEncoder, StandardScaler, MinMaxScaler\n",
    "from sklearn.compose import ColumnTransformer\n",
    "from sklearn.impute import SimpleImputer\n",
    "from sklearn.pipeline import Pipeline\n",
    "df.dtypes"
   ]
  },
  {
   "cell_type": "markdown",
   "id": "5ca572af",
   "metadata": {},
   "source": [
    "<h3>Pipelines для заполнение отсутствующих данных (SimpleImputer), ран;ирование имеющихся данных в некоторых пределах (MinMaxScaler) и декодирования категориальных признаков (OneHotencoder)</h3>\n",
    "<h5>SimpleImputer(strategy='mean') заменяет отсутствующие данные их средним значением по столбцу</h5>\n",
    "<h5>Для MinMaxScaler:</h5>\n",
    "<h5>X_std = (X - X.min(axis=0)) / (X.max(axis=0) - X.min(axis=0))</h5>\n",
    "<h5>X_scaled = X_std * (max - min) + min - итоговое значение для данных из num_col</h5>"
   ]
  },
  {
   "cell_type": "code",
   "execution_count": 92,
   "id": "114e9774",
   "metadata": {
    "execution": {
     "iopub.execute_input": "2023-12-05T23:32:02.720533Z",
     "iopub.status.busy": "2023-12-05T23:32:02.720076Z",
     "iopub.status.idle": "2023-12-05T23:32:02.724554Z",
     "shell.execute_reply": "2023-12-05T23:32:02.724027Z"
    },
    "papermill": {
     "duration": 0.01654,
     "end_time": "2023-12-05T23:32:02.726020",
     "exception": false,
     "start_time": "2023-12-05T23:32:02.709480",
     "status": "completed"
    },
    "tags": []
   },
   "outputs": [],
   "source": [
    "num_col = ['SquareFeet','Bedrooms','Bathrooms']\n",
    "num_pipe = Pipeline(steps =[\n",
    "    ('imputer', SimpleImputer(strategy='mean')),\n",
    "    ('scale', MinMaxScaler())\n",
    "])\n",
    "\n",
    "cat_col = ['Neighborhood']\n",
    "cat_pipe = Pipeline(steps = [\n",
    "    ('encoder', OneHotEncoder())\n",
    "])\n",
    "\n",
    "transform = ColumnTransformer([\n",
    "    ('num_transform',num_pipe, num_col),\n",
    "    ('cat_transform', cat_pipe, cat_col)\n",
    "], remainder = 'drop')"
   ]
  },
  {
   "cell_type": "markdown",
   "id": "a0d0a81b",
   "metadata": {},
   "source": [
    "<h3>Разделение на train/test</h3>"
   ]
  },
  {
   "cell_type": "code",
   "execution_count": 93,
   "id": "08c73604",
   "metadata": {},
   "outputs": [
    {
     "name": "stdout",
     "output_type": "stream",
     "text": [
      "SquareFeet       2126\n",
      "Bedrooms            4\n",
      "Bathrooms           1\n",
      "Neighborhood    Rural\n",
      "Name: 0, dtype: object\n"
     ]
    }
   ],
   "source": [
    "from sklearn.model_selection import train_test_split\n",
    "X = df.drop(['YearBuilt','Price'], axis =1)\n",
    "y = df.Price\n",
    "print(X.iloc[0])\n",
    "\n",
    "X_train, X_test, y_train, y_test = train_test_split(X, y, test_size=0.3, random_state=42)"
   ]
  },
  {
   "cell_type": "markdown",
   "id": "48934160",
   "metadata": {},
   "source": [
    "<h3>Список моделей для оценки их качества решения</h3>"
   ]
  },
  {
   "cell_type": "code",
   "execution_count": 94,
   "id": "c748cd77",
   "metadata": {
    "execution": {
     "iopub.execute_input": "2023-12-05T23:32:02.894932Z",
     "iopub.status.busy": "2023-12-05T23:32:02.894202Z",
     "iopub.status.idle": "2023-12-05T23:32:02.898050Z",
     "shell.execute_reply": "2023-12-05T23:32:02.897298Z"
    },
    "papermill": {
     "duration": 0.01589,
     "end_time": "2023-12-05T23:32:02.899546",
     "exception": false,
     "start_time": "2023-12-05T23:32:02.883656",
     "status": "completed"
    },
    "tags": []
   },
   "outputs": [],
   "source": [
    "import sklearn.metrics as sm\n",
    "\n",
    "from sklearn.cross_decomposition import PLSRegression\n",
    "from xgboost import XGBRegressor\n",
    "from sklearn.tree import DecisionTreeRegressor\n",
    "from sklearn.ensemble import RandomForestRegressor, GradientBoostingRegressor\n",
    "from sklearn.linear_model import RANSACRegressor, ElasticNet, SGDRegressor, BayesianRidge, LinearRegression, Lasso, Ridge\n",
    "\n",
    "regressors = [\n",
    "    LinearRegression(),\n",
    "    PLSRegression(),\n",
    "    Lasso(),\n",
    "    Ridge(),\n",
    "    BayesianRidge(),\n",
    "    SGDRegressor(),\n",
    "    RANSACRegressor(),\n",
    "    ElasticNet(),\n",
    "    RandomForestRegressor(),\n",
    "    GradientBoostingRegressor(),\n",
    "    XGBRegressor(),\n",
    "    DecisionTreeRegressor()\n",
    "]\n"
   ]
  },
  {
   "cell_type": "markdown",
   "id": "e5e3be48",
   "metadata": {},
   "source": [
    "<h1>Выбор модели для решения задачи</h1>"
   ]
  },
  {
   "cell_type": "markdown",
   "id": "c6fa2443",
   "metadata": {},
   "source": [
    "<h2>Данные на основе кросс-валидации</h2>"
   ]
  },
  {
   "cell_type": "code",
   "execution_count": 95,
   "id": "8ad67398",
   "metadata": {},
   "outputs": [
    {
     "name": "stdout",
     "output_type": "stream",
     "text": [
      "LinearRegression() cross_val_score [0.55855366 0.57388569 0.57551909 0.57002188 0.57252351]\n",
      "PLSRegression() cross_val_score [0.55859485 0.57393801 0.57549798 0.57006519 0.57251226]\n",
      "Lasso() cross_val_score [0.55859828 0.57394606 0.57549107 0.57003774 0.57251149]\n",
      "Ridge() cross_val_score [0.55860162 0.57394491 0.57549134 0.57003576 0.57251085]\n",
      "BayesianRidge() cross_val_score [0.55859916 0.57394617 0.57549111 0.57003608 0.57251211]\n",
      "SGDRegressor() cross_val_score [0.55851654 0.57382537 0.57500934 0.56999906 0.57212965]\n",
      "RANSACRegressor() cross_val_score [0.52944742 0.53288662 0.56751362 0.54859534 0.55470171]\n",
      "ElasticNet() cross_val_score [0.14980155 0.15208297 0.15280514 0.1513372  0.151229  ]\n",
      "RandomForestRegressor() cross_val_score [0.44087682 0.44806951 0.4485002  0.44717303 0.44943103]\n",
      "GradientBoostingRegressor() cross_val_score [0.55796233 0.57211574 0.57425018 0.56906597 0.5714523 ]\n",
      "XGBRegressor(base_score=None, booster=None, callbacks=None,\n",
      "             colsample_bylevel=None, colsample_bynode=None,\n",
      "             colsample_bytree=None, device=None, early_stopping_rounds=None,\n",
      "             enable_categorical=False, eval_metric=None, feature_types=None,\n",
      "             gamma=None, grow_policy=None, importance_type=None,\n",
      "             interaction_constraints=None, learning_rate=None, max_bin=None,\n",
      "             max_cat_threshold=None, max_cat_to_onehot=None,\n",
      "             max_delta_step=None, max_depth=None, max_leaves=None,\n",
      "             min_child_weight=None, missing=nan, monotone_constraints=None,\n",
      "             multi_strategy=None, n_estimators=None, n_jobs=None,\n",
      "             num_parallel_tree=None, random_state=None, ...) cross_val_score [0.54586719 0.55913724 0.55924758 0.55500723 0.55786622]\n",
      "DecisionTreeRegressor() cross_val_score [0.16512987 0.15593014 0.17399951 0.16629855 0.16705315]\n"
     ]
    }
   ],
   "source": [
    "# validate\n",
    "from sklearn.model_selection import cross_val_score\n",
    "\n",
    "for regressor in regressors:\n",
    "    model_pipe = Pipeline([\n",
    "        ('transform', transform),\n",
    "        ('clf',regressor)\n",
    "    ])\n",
    "    print(f\"{regressor} cross_val_score {cross_val_score(model_pipe, X, y)}\")"
   ]
  },
  {
   "cell_type": "markdown",
   "id": "50a7abb5",
   "metadata": {},
   "source": [
    "<h2>Проверка моделей на различных метриках</h2>"
   ]
  },
  {
   "cell_type": "code",
   "execution_count": 96,
   "id": "ea22f880",
   "metadata": {},
   "outputs": [
    {
     "name": "stdout",
     "output_type": "stream",
     "text": [
      "Regressor LinearRegression() model performance:\n",
      "Mean absolute error(MAE) = 39738.66\n",
      "Mean squared error(MSE) = 2468187499.13\n",
      "Median absolute error = 33899.5\n",
      "Explain variance score = 0.57\n",
      "R2 score = 0.57\n",
      "test score = 57.29%\n",
      "\n",
      "Regressor PLSRegression() model performance:\n",
      "Mean absolute error(MAE) = 39737.07\n",
      "Mean squared error(MSE) = 2467929137.93\n",
      "Median absolute error = 33861.79\n",
      "Explain variance score = 0.57\n",
      "R2 score = 0.57\n",
      "test score = 57.3%\n",
      "\n",
      "Regressor Lasso() model performance:\n",
      "Mean absolute error(MAE) = 39738.11\n",
      "Mean squared error(MSE) = 2468014199.19\n",
      "Median absolute error = 33842.38\n",
      "Explain variance score = 0.57\n",
      "R2 score = 0.57\n",
      "test score = 57.3%\n",
      "\n",
      "Regressor Ridge() model performance:\n",
      "Mean absolute error(MAE) = 39738.0\n",
      "Mean squared error(MSE) = 2468011769.78\n",
      "Median absolute error = 33835.42\n",
      "Explain variance score = 0.57\n",
      "R2 score = 0.57\n",
      "test score = 57.3%\n",
      "\n",
      "Regressor BayesianRidge() model performance:\n",
      "Mean absolute error(MAE) = 39738.14\n",
      "Mean squared error(MSE) = 2468017830.86\n",
      "Median absolute error = 33841.65\n",
      "Explain variance score = 0.57\n",
      "R2 score = 0.57\n",
      "test score = 57.3%\n",
      "\n",
      "Regressor SGDRegressor() model performance:\n",
      "Mean absolute error(MAE) = 39737.15\n",
      "Mean squared error(MSE) = 2469071504.43\n",
      "Median absolute error = 33762.26\n",
      "Explain variance score = 0.57\n",
      "R2 score = 0.57\n",
      "test score = 57.28%\n",
      "\n",
      "Regressor RANSACRegressor() model performance:\n",
      "Mean absolute error(MAE) = 41499.57\n",
      "Mean squared error(MSE) = 2693452658.19\n",
      "Median absolute error = 34902.07\n",
      "Explain variance score = 0.56\n",
      "R2 score = 0.53\n",
      "test score = 53.4%\n",
      "\n",
      "Regressor ElasticNet() model performance:\n",
      "Mean absolute error(MAE) = 56757.76\n",
      "Mean squared error(MSE) = 4898207590.18\n",
      "Median absolute error = 49331.79\n",
      "Explain variance score = 0.15\n",
      "R2 score = 0.15\n",
      "test score = 15.25%\n",
      "\n",
      "Regressor RandomForestRegressor() model performance:\n",
      "Mean absolute error(MAE) = 45037.95\n",
      "Mean squared error(MSE) = 3185681568.76\n",
      "Median absolute error = 38060.42\n",
      "Explain variance score = 0.45\n",
      "R2 score = 0.45\n",
      "test score = 44.88%\n",
      "\n",
      "Regressor GradientBoostingRegressor() model performance:\n",
      "Mean absolute error(MAE) = 39788.35\n",
      "Mean squared error(MSE) = 2475624331.94\n",
      "Median absolute error = 33879.41\n",
      "Explain variance score = 0.57\n",
      "R2 score = 0.57\n",
      "test score = 57.17%\n",
      "\n",
      "Regressor XGBRegressor(base_score=None, booster=None, callbacks=None,\n",
      "             colsample_bylevel=None, colsample_bynode=None,\n",
      "             colsample_bytree=None, device=None, early_stopping_rounds=None,\n",
      "             enable_categorical=False, eval_metric=None, feature_types=None,\n",
      "             gamma=None, grow_policy=None, importance_type=None,\n",
      "             interaction_constraints=None, learning_rate=None, max_bin=None,\n",
      "             max_cat_threshold=None, max_cat_to_onehot=None,\n",
      "             max_delta_step=None, max_depth=None, max_leaves=None,\n",
      "             min_child_weight=None, missing=nan, monotone_constraints=None,\n",
      "             multi_strategy=None, n_estimators=None, n_jobs=None,\n",
      "             num_parallel_tree=None, random_state=None, ...) model performance:\n",
      "Mean absolute error(MAE) = 40526.72\n",
      "Mean squared error(MSE) = 2568277587.09\n",
      "Median absolute error = 34431.88\n",
      "Explain variance score = 0.56\n",
      "R2 score = 0.56\n",
      "test score = 55.56%\n",
      "\n",
      "Regressor DecisionTreeRegressor() model performance:\n",
      "Mean absolute error(MAE) = 55714.24\n",
      "Mean squared error(MSE) = 4868903662.14\n",
      "Median absolute error = 47489.27\n",
      "Explain variance score = 0.16\n",
      "R2 score = 0.16\n",
      "test score = 15.76%\n",
      "\n"
     ]
    }
   ],
   "source": [
    "# choose pipeline\n",
    "for regressor in regressors:\n",
    "    model_pipe = Pipeline([\n",
    "        ('transform', transform),\n",
    "        ('clf',regressor)\n",
    "    ])\n",
    "    model_pipe.fit(X_train, y_train)\n",
    "    y_pred = model_pipe.predict(X_test)\n",
    "    print(f\"Regressor {regressor} model performance:\")\n",
    "    print(\"Mean absolute error(MAE) =\", round(sm.mean_absolute_error(y_test, y_pred), 2))\n",
    "    print(\"Mean squared error(MSE) =\", round(sm.mean_squared_error(y_test, y_pred), 2))\n",
    "    print(\"Median absolute error =\", round(sm.median_absolute_error(y_test, y_pred), 2))\n",
    "    print(\"Explain variance score =\", round(sm.explained_variance_score(y_test, y_pred), 2))\n",
    "    print(\"R2 score =\", round(sm.r2_score(y_test, y_pred), 2))\n",
    "    print(f'test score = {round(model_pipe.score(X_test,y_test)*100,2)}%')\n",
    "    print()"
   ]
  },
  {
   "cell_type": "markdown",
   "id": "1d02c8a8",
   "metadata": {},
   "source": [
    "<h3>В результате экспериментальных данных выбор пал на BayessianRigde регрессор</h3>\n",
    "<h3>Как можно увидеть из полученных выше данных, у некоторых моделей есть схожие по значениям с BayessianRigde метрики, поэтому для данной задачи подходит не только он. Ниже метрики только для BayessianRidge</h3>"
   ]
  },
  {
   "cell_type": "code",
   "execution_count": 97,
   "id": "5accbc9b",
   "metadata": {},
   "outputs": [
    {
     "name": "stdout",
     "output_type": "stream",
     "text": [
      "BayesianRidge model performance:\n",
      "Mean absolute error(MAE) = 39738.14\n",
      "Mean squared error(MSE) = 2468017830.86\n",
      "Median absolute error = 33841.65\n",
      "Explain variance score = 0.57\n",
      "R2 score = 0.57\n",
      "test score = 57.3%\n",
      "\n"
     ]
    }
   ],
   "source": [
    "model_pipe_main = Pipeline([\n",
    "    ('transform', transform),\n",
    "    ('clf', BayesianRidge())\n",
    "])\n",
    "model_pipe_main.fit(X_train, y_train)\n",
    "y_pred = model_pipe_main.predict(X_test)\n",
    "print(\"BayesianRidge model performance:\")\n",
    "print(\"Mean absolute error(MAE) =\", round(sm.mean_absolute_error(y_test, y_pred), 2))\n",
    "print(\"Mean squared error(MSE) =\", round(sm.mean_squared_error(y_test, y_pred), 2))\n",
    "print(\"Median absolute error =\", round(sm.median_absolute_error(y_test, y_pred), 2))\n",
    "print(\"Explain variance score =\", round(sm.explained_variance_score(y_test, y_pred), 2))\n",
    "print(\"R2 score =\", round(sm.r2_score(y_test, y_pred), 2))\n",
    "print(f'test score = {round(model_pipe_main.score(X_test,y_test)*100,2)}%')\n",
    "print()"
   ]
  },
  {
   "cell_type": "markdown",
   "id": "5f98cbbf",
   "metadata": {},
   "source": [
    "<h3>Вид данных для тестирования</р3>"
   ]
  },
  {
   "cell_type": "code",
   "execution_count": 98,
   "id": "0a412d63",
   "metadata": {
    "execution": {
     "iopub.execute_input": "2023-12-05T23:32:09.927340Z",
     "iopub.status.busy": "2023-12-05T23:32:09.927048Z",
     "iopub.status.idle": "2023-12-05T23:32:09.933111Z",
     "shell.execute_reply": "2023-12-05T23:32:09.932288Z"
    },
    "papermill": {
     "duration": 0.019379,
     "end_time": "2023-12-05T23:32:09.934656",
     "exception": false,
     "start_time": "2023-12-05T23:32:09.915277",
     "status": "completed"
    },
    "tags": []
   },
   "outputs": [
    {
     "data": {
      "text/html": [
       "<div>\n",
       "<style scoped>\n",
       "    .dataframe tbody tr th:only-of-type {\n",
       "        vertical-align: middle;\n",
       "    }\n",
       "\n",
       "    .dataframe tbody tr th {\n",
       "        vertical-align: top;\n",
       "    }\n",
       "\n",
       "    .dataframe thead th {\n",
       "        text-align: right;\n",
       "    }\n",
       "</style>\n",
       "<table border=\"1\" class=\"dataframe\">\n",
       "  <thead>\n",
       "    <tr style=\"text-align: right;\">\n",
       "      <th></th>\n",
       "      <th>SquareFeet</th>\n",
       "      <th>Bedrooms</th>\n",
       "      <th>Bathrooms</th>\n",
       "      <th>Neighborhood</th>\n",
       "      <th>Price</th>\n",
       "      <th>0</th>\n",
       "    </tr>\n",
       "  </thead>\n",
       "  <tbody>\n",
       "    <tr>\n",
       "      <th>33553</th>\n",
       "      <td>1894</td>\n",
       "      <td>5</td>\n",
       "      <td>1</td>\n",
       "      <td>Rural</td>\n",
       "      <td>170835.035713</td>\n",
       "      <td>NaN</td>\n",
       "    </tr>\n",
       "    <tr>\n",
       "      <th>9427</th>\n",
       "      <td>1001</td>\n",
       "      <td>5</td>\n",
       "      <td>3</td>\n",
       "      <td>Suburb</td>\n",
       "      <td>126913.469998</td>\n",
       "      <td>303079.925512</td>\n",
       "    </tr>\n",
       "    <tr>\n",
       "      <th>199</th>\n",
       "      <td>2264</td>\n",
       "      <td>4</td>\n",
       "      <td>3</td>\n",
       "      <td>Suburb</td>\n",
       "      <td>246611.883092</td>\n",
       "      <td>198059.460693</td>\n",
       "    </tr>\n",
       "    <tr>\n",
       "      <th>12447</th>\n",
       "      <td>2299</td>\n",
       "      <td>5</td>\n",
       "      <td>1</td>\n",
       "      <td>Suburb</td>\n",
       "      <td>244250.462969</td>\n",
       "      <td>140666.309529</td>\n",
       "    </tr>\n",
       "    <tr>\n",
       "      <th>39489</th>\n",
       "      <td>2651</td>\n",
       "      <td>2</td>\n",
       "      <td>1</td>\n",
       "      <td>Suburb</td>\n",
       "      <td>271127.650112</td>\n",
       "      <td>NaN</td>\n",
       "    </tr>\n",
       "  </tbody>\n",
       "</table>\n",
       "</div>"
      ],
      "text/plain": [
       "       SquareFeet  Bedrooms  Bathrooms Neighborhood          Price  \\\n",
       "33553        1894         5          1        Rural  170835.035713   \n",
       "9427         1001         5          3       Suburb  126913.469998   \n",
       "199          2264         4          3       Suburb  246611.883092   \n",
       "12447        2299         5          1       Suburb  244250.462969   \n",
       "39489        2651         2          1       Suburb  271127.650112   \n",
       "\n",
       "                   0  \n",
       "33553            NaN  \n",
       "9427   303079.925512  \n",
       "199    198059.460693  \n",
       "12447  140666.309529  \n",
       "39489            NaN  "
      ]
     },
     "execution_count": 98,
     "metadata": {},
     "output_type": "execute_result"
    }
   ],
   "source": [
    "test_data = pd.merge(pd.DataFrame(X_test), pd.DataFrame(y_test), right_index=True, left_index=True)\n",
    "test_data.join(pd.DataFrame(y_pred))[:5]"
   ]
  },
  {
   "cell_type": "code",
   "execution_count": 99,
   "id": "b747f185",
   "metadata": {
    "execution": {
     "iopub.execute_input": "2023-12-05T23:32:09.993964Z",
     "iopub.status.busy": "2023-12-05T23:32:09.993595Z",
     "iopub.status.idle": "2023-12-05T23:32:10.002188Z",
     "shell.execute_reply": "2023-12-05T23:32:10.001297Z"
    },
    "papermill": {
     "duration": 0.021976,
     "end_time": "2023-12-05T23:32:10.003967",
     "exception": false,
     "start_time": "2023-12-05T23:32:09.981991",
     "status": "completed"
    },
    "tags": []
   },
   "outputs": [
    {
     "data": {
      "text/html": [
       "<div>\n",
       "<style scoped>\n",
       "    .dataframe tbody tr th:only-of-type {\n",
       "        vertical-align: middle;\n",
       "    }\n",
       "\n",
       "    .dataframe tbody tr th {\n",
       "        vertical-align: top;\n",
       "    }\n",
       "\n",
       "    .dataframe thead th {\n",
       "        text-align: right;\n",
       "    }\n",
       "</style>\n",
       "<table border=\"1\" class=\"dataframe\">\n",
       "  <thead>\n",
       "    <tr style=\"text-align: right;\">\n",
       "      <th></th>\n",
       "      <th>15109</th>\n",
       "    </tr>\n",
       "  </thead>\n",
       "  <tbody>\n",
       "    <tr>\n",
       "      <th>SquareFeet</th>\n",
       "      <td>2160</td>\n",
       "    </tr>\n",
       "    <tr>\n",
       "      <th>Bedrooms</th>\n",
       "      <td>2</td>\n",
       "    </tr>\n",
       "    <tr>\n",
       "      <th>Bathrooms</th>\n",
       "      <td>3</td>\n",
       "    </tr>\n",
       "    <tr>\n",
       "      <th>Neighborhood</th>\n",
       "      <td>Rural</td>\n",
       "    </tr>\n",
       "    <tr>\n",
       "      <th>YearBuilt</th>\n",
       "      <td>2015</td>\n",
       "    </tr>\n",
       "    <tr>\n",
       "      <th>Price</th>\n",
       "      <td>225938.368593</td>\n",
       "    </tr>\n",
       "  </tbody>\n",
       "</table>\n",
       "</div>"
      ],
      "text/plain": [
       "                      15109\n",
       "SquareFeet             2160\n",
       "Bedrooms                  2\n",
       "Bathrooms                 3\n",
       "Neighborhood          Rural\n",
       "YearBuilt              2015\n",
       "Price         225938.368593"
      ]
     },
     "execution_count": 99,
     "metadata": {},
     "output_type": "execute_result"
    }
   ],
   "source": [
    "df.iloc[15109].to_frame()"
   ]
  },
  {
   "cell_type": "code",
   "execution_count": 100,
   "id": "a22a4cfc",
   "metadata": {
    "execution": {
     "iopub.execute_input": "2023-12-05T23:32:10.027209Z",
     "iopub.status.busy": "2023-12-05T23:32:10.026948Z",
     "iopub.status.idle": "2023-12-05T23:32:10.032236Z",
     "shell.execute_reply": "2023-12-05T23:32:10.031465Z"
    },
    "papermill": {
     "duration": 0.018705,
     "end_time": "2023-12-05T23:32:10.033813",
     "exception": false,
     "start_time": "2023-12-05T23:32:10.015108",
     "status": "completed"
    },
    "tags": []
   },
   "outputs": [
    {
     "name": "stdout",
     "output_type": "stream",
     "text": [
      "test labels shape: (15000,)\n",
      "predicted labels shape: (15000,)\n",
      "Model parameters list: dict_keys(['memory', 'steps', 'verbose', 'transform', 'clf', 'transform__n_jobs', 'transform__remainder', 'transform__sparse_threshold', 'transform__transformer_weights', 'transform__transformers', 'transform__verbose', 'transform__verbose_feature_names_out', 'transform__num_transform', 'transform__cat_transform', 'transform__num_transform__memory', 'transform__num_transform__steps', 'transform__num_transform__verbose', 'transform__num_transform__imputer', 'transform__num_transform__scale', 'transform__num_transform__imputer__add_indicator', 'transform__num_transform__imputer__copy', 'transform__num_transform__imputer__fill_value', 'transform__num_transform__imputer__keep_empty_features', 'transform__num_transform__imputer__missing_values', 'transform__num_transform__imputer__strategy', 'transform__num_transform__scale__clip', 'transform__num_transform__scale__copy', 'transform__num_transform__scale__feature_range', 'transform__cat_transform__memory', 'transform__cat_transform__steps', 'transform__cat_transform__verbose', 'transform__cat_transform__encoder', 'transform__cat_transform__encoder__categories', 'transform__cat_transform__encoder__drop', 'transform__cat_transform__encoder__dtype', 'transform__cat_transform__encoder__feature_name_combiner', 'transform__cat_transform__encoder__handle_unknown', 'transform__cat_transform__encoder__max_categories', 'transform__cat_transform__encoder__min_frequency', 'transform__cat_transform__encoder__sparse', 'transform__cat_transform__encoder__sparse_output', 'clf__alpha_1', 'clf__alpha_2', 'clf__alpha_init', 'clf__compute_score', 'clf__copy_X', 'clf__fit_intercept', 'clf__lambda_1', 'clf__lambda_2', 'clf__lambda_init', 'clf__max_iter', 'clf__n_iter', 'clf__tol', 'clf__verbose'])\n"
     ]
    }
   ],
   "source": [
    "print(f\"test labels shape: {y_test.shape}\\npredicted labels shape: {y_pred.shape}\")\n",
    "print(f\"Model parameters list: {model_pipe_main.get_params().keys()}\")"
   ]
  },
  {
   "cell_type": "markdown",
   "id": "f52a8e42",
   "metadata": {},
   "source": [
    "<h2>Обучение Pipeline при помощи рандомизированного поиска гиперпараметров модели с использованием в качестве метрики качества кросс-валидацию</h2>"
   ]
  },
  {
   "cell_type": "code",
   "execution_count": 101,
   "id": "ec42c661",
   "metadata": {
    "execution": {
     "iopub.execute_input": "2023-12-05T23:32:10.115500Z",
     "iopub.status.busy": "2023-12-05T23:32:10.115249Z",
     "iopub.status.idle": "2023-12-05T23:32:10.118878Z",
     "shell.execute_reply": "2023-12-05T23:32:10.118355Z"
    },
    "papermill": {
     "duration": 0.017532,
     "end_time": "2023-12-05T23:32:10.120325",
     "exception": false,
     "start_time": "2023-12-05T23:32:10.102793",
     "status": "completed"
    },
    "tags": []
   },
   "outputs": [
    {
     "name": "stdout",
     "output_type": "stream",
     "text": [
      "Fitting 5 folds for each of 1 candidates, totalling 5 fits\n",
      "[CV] END .................................................... total time=   0.1s\n",
      "[CV] END .................................................... total time=   0.1s\n"
     ]
    },
    {
     "name": "stderr",
     "output_type": "stream",
     "text": [
      "/home/alexey/.local/lib/python3.10/site-packages/sklearn/model_selection/_search.py:307: UserWarning: The total space of parameters 1 is smaller than n_iter=5. Running 1 iterations. For exhaustive searches, use GridSearchCV.\n",
      "  warnings.warn(\n"
     ]
    },
    {
     "name": "stdout",
     "output_type": "stream",
     "text": [
      "[CV] END .................................................... total time=   0.1s\n"
     ]
    },
    {
     "name": "stdout",
     "output_type": "stream",
     "text": [
      "[CV] END .................................................... total time=   0.1s\n",
      "[CV] END .................................................... total time=   0.1s\n"
     ]
    },
    {
     "data": {
      "text/html": [
       "<style>#sk-container-id-3 {color: black;}#sk-container-id-3 pre{padding: 0;}#sk-container-id-3 div.sk-toggleable {background-color: white;}#sk-container-id-3 label.sk-toggleable__label {cursor: pointer;display: block;width: 100%;margin-bottom: 0;padding: 0.3em;box-sizing: border-box;text-align: center;}#sk-container-id-3 label.sk-toggleable__label-arrow:before {content: \"▸\";float: left;margin-right: 0.25em;color: #696969;}#sk-container-id-3 label.sk-toggleable__label-arrow:hover:before {color: black;}#sk-container-id-3 div.sk-estimator:hover label.sk-toggleable__label-arrow:before {color: black;}#sk-container-id-3 div.sk-toggleable__content {max-height: 0;max-width: 0;overflow: hidden;text-align: left;background-color: #f0f8ff;}#sk-container-id-3 div.sk-toggleable__content pre {margin: 0.2em;color: black;border-radius: 0.25em;background-color: #f0f8ff;}#sk-container-id-3 input.sk-toggleable__control:checked~div.sk-toggleable__content {max-height: 200px;max-width: 100%;overflow: auto;}#sk-container-id-3 input.sk-toggleable__control:checked~label.sk-toggleable__label-arrow:before {content: \"▾\";}#sk-container-id-3 div.sk-estimator input.sk-toggleable__control:checked~label.sk-toggleable__label {background-color: #d4ebff;}#sk-container-id-3 div.sk-label input.sk-toggleable__control:checked~label.sk-toggleable__label {background-color: #d4ebff;}#sk-container-id-3 input.sk-hidden--visually {border: 0;clip: rect(1px 1px 1px 1px);clip: rect(1px, 1px, 1px, 1px);height: 1px;margin: -1px;overflow: hidden;padding: 0;position: absolute;width: 1px;}#sk-container-id-3 div.sk-estimator {font-family: monospace;background-color: #f0f8ff;border: 1px dotted black;border-radius: 0.25em;box-sizing: border-box;margin-bottom: 0.5em;}#sk-container-id-3 div.sk-estimator:hover {background-color: #d4ebff;}#sk-container-id-3 div.sk-parallel-item::after {content: \"\";width: 100%;border-bottom: 1px solid gray;flex-grow: 1;}#sk-container-id-3 div.sk-label:hover label.sk-toggleable__label {background-color: #d4ebff;}#sk-container-id-3 div.sk-serial::before {content: \"\";position: absolute;border-left: 1px solid gray;box-sizing: border-box;top: 0;bottom: 0;left: 50%;z-index: 0;}#sk-container-id-3 div.sk-serial {display: flex;flex-direction: column;align-items: center;background-color: white;padding-right: 0.2em;padding-left: 0.2em;position: relative;}#sk-container-id-3 div.sk-item {position: relative;z-index: 1;}#sk-container-id-3 div.sk-parallel {display: flex;align-items: stretch;justify-content: center;background-color: white;position: relative;}#sk-container-id-3 div.sk-item::before, #sk-container-id-3 div.sk-parallel-item::before {content: \"\";position: absolute;border-left: 1px solid gray;box-sizing: border-box;top: 0;bottom: 0;left: 50%;z-index: -1;}#sk-container-id-3 div.sk-parallel-item {display: flex;flex-direction: column;z-index: 1;position: relative;background-color: white;}#sk-container-id-3 div.sk-parallel-item:first-child::after {align-self: flex-end;width: 50%;}#sk-container-id-3 div.sk-parallel-item:last-child::after {align-self: flex-start;width: 50%;}#sk-container-id-3 div.sk-parallel-item:only-child::after {width: 0;}#sk-container-id-3 div.sk-dashed-wrapped {border: 1px dashed gray;margin: 0 0.4em 0.5em 0.4em;box-sizing: border-box;padding-bottom: 0.4em;background-color: white;}#sk-container-id-3 div.sk-label label {font-family: monospace;font-weight: bold;display: inline-block;line-height: 1.2em;}#sk-container-id-3 div.sk-label-container {text-align: center;}#sk-container-id-3 div.sk-container {/* jupyter's `normalize.less` sets `[hidden] { display: none; }` but bootstrap.min.css set `[hidden] { display: none !important; }` so we also need the `!important` here to be able to override the default hidden behavior on the sphinx rendered scikit-learn.org. See: https://github.com/scikit-learn/scikit-learn/issues/21755 */display: inline-block !important;position: relative;}#sk-container-id-3 div.sk-text-repr-fallback {display: none;}</style><div id=\"sk-container-id-3\" class=\"sk-top-container\"><div class=\"sk-text-repr-fallback\"><pre>RandomizedSearchCV(cv=5,\n",
       "                   estimator=Pipeline(steps=[(&#x27;transform&#x27;,\n",
       "                                              ColumnTransformer(transformers=[(&#x27;num_transform&#x27;,\n",
       "                                                                               Pipeline(steps=[(&#x27;imputer&#x27;,\n",
       "                                                                                                SimpleImputer()),\n",
       "                                                                                               (&#x27;scale&#x27;,\n",
       "                                                                                                MinMaxScaler())]),\n",
       "                                                                               [&#x27;SquareFeet&#x27;,\n",
       "                                                                                &#x27;Bedrooms&#x27;,\n",
       "                                                                                &#x27;Bathrooms&#x27;]),\n",
       "                                                                              (&#x27;cat_transform&#x27;,\n",
       "                                                                               Pipeline(steps=[(&#x27;encoder&#x27;,\n",
       "                                                                                                OneHotEncoder())]),\n",
       "                                                                               [&#x27;Neighborhood&#x27;])])),\n",
       "                                             (&#x27;clf&#x27;, BayesianRidge())]),\n",
       "                   n_iter=5, param_distributions={}, verbose=2)</pre><b>In a Jupyter environment, please rerun this cell to show the HTML representation or trust the notebook. <br />On GitHub, the HTML representation is unable to render, please try loading this page with nbviewer.org.</b></div><div class=\"sk-container\" hidden><div class=\"sk-item sk-dashed-wrapped\"><div class=\"sk-label-container\"><div class=\"sk-label sk-toggleable\"><input class=\"sk-toggleable__control sk-hidden--visually\" id=\"sk-estimator-id-19\" type=\"checkbox\" ><label for=\"sk-estimator-id-19\" class=\"sk-toggleable__label sk-toggleable__label-arrow\">RandomizedSearchCV</label><div class=\"sk-toggleable__content\"><pre>RandomizedSearchCV(cv=5,\n",
       "                   estimator=Pipeline(steps=[(&#x27;transform&#x27;,\n",
       "                                              ColumnTransformer(transformers=[(&#x27;num_transform&#x27;,\n",
       "                                                                               Pipeline(steps=[(&#x27;imputer&#x27;,\n",
       "                                                                                                SimpleImputer()),\n",
       "                                                                                               (&#x27;scale&#x27;,\n",
       "                                                                                                MinMaxScaler())]),\n",
       "                                                                               [&#x27;SquareFeet&#x27;,\n",
       "                                                                                &#x27;Bedrooms&#x27;,\n",
       "                                                                                &#x27;Bathrooms&#x27;]),\n",
       "                                                                              (&#x27;cat_transform&#x27;,\n",
       "                                                                               Pipeline(steps=[(&#x27;encoder&#x27;,\n",
       "                                                                                                OneHotEncoder())]),\n",
       "                                                                               [&#x27;Neighborhood&#x27;])])),\n",
       "                                             (&#x27;clf&#x27;, BayesianRidge())]),\n",
       "                   n_iter=5, param_distributions={}, verbose=2)</pre></div></div></div><div class=\"sk-parallel\"><div class=\"sk-parallel-item\"><div class=\"sk-item\"><div class=\"sk-label-container\"><div class=\"sk-label sk-toggleable\"><input class=\"sk-toggleable__control sk-hidden--visually\" id=\"sk-estimator-id-20\" type=\"checkbox\" ><label for=\"sk-estimator-id-20\" class=\"sk-toggleable__label sk-toggleable__label-arrow\">estimator: Pipeline</label><div class=\"sk-toggleable__content\"><pre>Pipeline(steps=[(&#x27;transform&#x27;,\n",
       "                 ColumnTransformer(transformers=[(&#x27;num_transform&#x27;,\n",
       "                                                  Pipeline(steps=[(&#x27;imputer&#x27;,\n",
       "                                                                   SimpleImputer()),\n",
       "                                                                  (&#x27;scale&#x27;,\n",
       "                                                                   MinMaxScaler())]),\n",
       "                                                  [&#x27;SquareFeet&#x27;, &#x27;Bedrooms&#x27;,\n",
       "                                                   &#x27;Bathrooms&#x27;]),\n",
       "                                                 (&#x27;cat_transform&#x27;,\n",
       "                                                  Pipeline(steps=[(&#x27;encoder&#x27;,\n",
       "                                                                   OneHotEncoder())]),\n",
       "                                                  [&#x27;Neighborhood&#x27;])])),\n",
       "                (&#x27;clf&#x27;, BayesianRidge())])</pre></div></div></div><div class=\"sk-serial\"><div class=\"sk-item\"><div class=\"sk-serial\"><div class=\"sk-item sk-dashed-wrapped\"><div class=\"sk-label-container\"><div class=\"sk-label sk-toggleable\"><input class=\"sk-toggleable__control sk-hidden--visually\" id=\"sk-estimator-id-21\" type=\"checkbox\" ><label for=\"sk-estimator-id-21\" class=\"sk-toggleable__label sk-toggleable__label-arrow\">transform: ColumnTransformer</label><div class=\"sk-toggleable__content\"><pre>ColumnTransformer(transformers=[(&#x27;num_transform&#x27;,\n",
       "                                 Pipeline(steps=[(&#x27;imputer&#x27;, SimpleImputer()),\n",
       "                                                 (&#x27;scale&#x27;, MinMaxScaler())]),\n",
       "                                 [&#x27;SquareFeet&#x27;, &#x27;Bedrooms&#x27;, &#x27;Bathrooms&#x27;]),\n",
       "                                (&#x27;cat_transform&#x27;,\n",
       "                                 Pipeline(steps=[(&#x27;encoder&#x27;, OneHotEncoder())]),\n",
       "                                 [&#x27;Neighborhood&#x27;])])</pre></div></div></div><div class=\"sk-parallel\"><div class=\"sk-parallel-item\"><div class=\"sk-item\"><div class=\"sk-label-container\"><div class=\"sk-label sk-toggleable\"><input class=\"sk-toggleable__control sk-hidden--visually\" id=\"sk-estimator-id-22\" type=\"checkbox\" ><label for=\"sk-estimator-id-22\" class=\"sk-toggleable__label sk-toggleable__label-arrow\">num_transform</label><div class=\"sk-toggleable__content\"><pre>[&#x27;SquareFeet&#x27;, &#x27;Bedrooms&#x27;, &#x27;Bathrooms&#x27;]</pre></div></div></div><div class=\"sk-serial\"><div class=\"sk-item\"><div class=\"sk-serial\"><div class=\"sk-item\"><div class=\"sk-estimator sk-toggleable\"><input class=\"sk-toggleable__control sk-hidden--visually\" id=\"sk-estimator-id-23\" type=\"checkbox\" ><label for=\"sk-estimator-id-23\" class=\"sk-toggleable__label sk-toggleable__label-arrow\">SimpleImputer</label><div class=\"sk-toggleable__content\"><pre>SimpleImputer()</pre></div></div></div><div class=\"sk-item\"><div class=\"sk-estimator sk-toggleable\"><input class=\"sk-toggleable__control sk-hidden--visually\" id=\"sk-estimator-id-24\" type=\"checkbox\" ><label for=\"sk-estimator-id-24\" class=\"sk-toggleable__label sk-toggleable__label-arrow\">MinMaxScaler</label><div class=\"sk-toggleable__content\"><pre>MinMaxScaler()</pre></div></div></div></div></div></div></div></div><div class=\"sk-parallel-item\"><div class=\"sk-item\"><div class=\"sk-label-container\"><div class=\"sk-label sk-toggleable\"><input class=\"sk-toggleable__control sk-hidden--visually\" id=\"sk-estimator-id-25\" type=\"checkbox\" ><label for=\"sk-estimator-id-25\" class=\"sk-toggleable__label sk-toggleable__label-arrow\">cat_transform</label><div class=\"sk-toggleable__content\"><pre>[&#x27;Neighborhood&#x27;]</pre></div></div></div><div class=\"sk-serial\"><div class=\"sk-item\"><div class=\"sk-serial\"><div class=\"sk-item\"><div class=\"sk-estimator sk-toggleable\"><input class=\"sk-toggleable__control sk-hidden--visually\" id=\"sk-estimator-id-26\" type=\"checkbox\" ><label for=\"sk-estimator-id-26\" class=\"sk-toggleable__label sk-toggleable__label-arrow\">OneHotEncoder</label><div class=\"sk-toggleable__content\"><pre>OneHotEncoder()</pre></div></div></div></div></div></div></div></div></div></div><div class=\"sk-item\"><div class=\"sk-estimator sk-toggleable\"><input class=\"sk-toggleable__control sk-hidden--visually\" id=\"sk-estimator-id-27\" type=\"checkbox\" ><label for=\"sk-estimator-id-27\" class=\"sk-toggleable__label sk-toggleable__label-arrow\">BayesianRidge</label><div class=\"sk-toggleable__content\"><pre>BayesianRidge()</pre></div></div></div></div></div></div></div></div></div></div></div></div>"
      ],
      "text/plain": [
       "RandomizedSearchCV(cv=5,\n",
       "                   estimator=Pipeline(steps=[('transform',\n",
       "                                              ColumnTransformer(transformers=[('num_transform',\n",
       "                                                                               Pipeline(steps=[('imputer',\n",
       "                                                                                                SimpleImputer()),\n",
       "                                                                                               ('scale',\n",
       "                                                                                                MinMaxScaler())]),\n",
       "                                                                               ['SquareFeet',\n",
       "                                                                                'Bedrooms',\n",
       "                                                                                'Bathrooms']),\n",
       "                                                                              ('cat_transform',\n",
       "                                                                               Pipeline(steps=[('encoder',\n",
       "                                                                                                OneHotEncoder())]),\n",
       "                                                                               ['Neighborhood'])])),\n",
       "                                             ('clf', BayesianRidge())]),\n",
       "                   n_iter=5, param_distributions={}, verbose=2)"
      ]
     },
     "execution_count": 101,
     "metadata": {},
     "output_type": "execute_result"
    }
   ],
   "source": [
    "from sklearn.model_selection import GridSearchCV, RandomizedSearchCV\n",
    "param = {\n",
    "       }\n",
    "\n",
    "grid = RandomizedSearchCV(estimator = model_pipe_main,\n",
    "                          param_distributions = param,\n",
    "                          n_iter = 5,\n",
    "                          cv=5,\n",
    "                          verbose = 2)\n",
    "grid.fit(X_train, y_train)"
   ]
  },
  {
   "cell_type": "markdown",
   "id": "262d78f6",
   "metadata": {},
   "source": [
    "<h1>Результирующее значение метрик для обученного PipeLine</h1>"
   ]
  },
  {
   "cell_type": "code",
   "execution_count": 102,
   "id": "48e13823",
   "metadata": {
    "execution": {
     "iopub.execute_input": "2023-12-05T23:32:39.279149Z",
     "iopub.status.busy": "2023-12-05T23:32:39.278870Z",
     "iopub.status.idle": "2023-12-05T23:32:39.664587Z",
     "shell.execute_reply": "2023-12-05T23:32:39.663473Z"
    },
    "papermill": {
     "duration": 0.40043,
     "end_time": "2023-12-05T23:32:39.666612",
     "exception": false,
     "start_time": "2023-12-05T23:32:39.266182",
     "status": "completed"
    },
    "tags": []
   },
   "outputs": [
    {
     "name": "stdout",
     "output_type": "stream",
     "text": [
      "Mean absolute error(MAE) = 39738.14\n",
      "Mean squared error(MSE) = 2468017830.86\n",
      "Median absolute error = 33841.65\n",
      "Explain variance score = 0.57\n",
      "R2 score = 0.57\n",
      "test score = 57.3%\n"
     ]
    }
   ],
   "source": [
    "y_pred = grid.predict(X_test)\n",
    "print(\"Mean absolute error(MAE) =\", round(sm.mean_absolute_error(y_test, y_pred), 2))\n",
    "print(\"Mean squared error(MSE) =\", round(sm.mean_squared_error(y_test, y_pred), 2))\n",
    "print(\"Median absolute error =\", round(sm.median_absolute_error(y_test, y_pred), 2))\n",
    "print(\"Explain variance score =\", round(sm.explained_variance_score(y_test, y_pred), 2))\n",
    "print(\"R2 score =\", round(sm.r2_score(y_test, y_pred), 2))\n",
    "print(f'test score = {round(model_pipe_main.score(X_test,y_test)*100,2)}%')"
   ]
  }
 ],
 "metadata": {
  "kaggle": {
   "accelerator": "none",
   "dataSources": [
    {
     "datasetId": 4037188,
     "sourceId": 7020742,
     "sourceType": "datasetVersion"
    }
   ],
   "dockerImageVersionId": 30587,
   "isGpuEnabled": false,
   "isInternetEnabled": true,
   "language": "python",
   "sourceType": "notebook"
  },
  "kernelspec": {
   "display_name": "Python 3",
   "language": "python",
   "name": "python3"
  },
  "language_info": {
   "codemirror_mode": {
    "name": "ipython",
    "version": 3
   },
   "file_extension": ".py",
   "mimetype": "text/x-python",
   "name": "python",
   "nbconvert_exporter": "python",
   "pygments_lexer": "ipython3",
   "version": "3.10.12"
  },
  "papermill": {
   "default_parameters": {},
   "duration": 43.086907,
   "end_time": "2023-12-05T23:32:40.221084",
   "environment_variables": {},
   "exception": null,
   "input_path": "__notebook__.ipynb",
   "output_path": "__notebook__.ipynb",
   "parameters": {},
   "start_time": "2023-12-05T23:31:57.134177",
   "version": "2.4.0"
  }
 },
 "nbformat": 4,
 "nbformat_minor": 5
}
